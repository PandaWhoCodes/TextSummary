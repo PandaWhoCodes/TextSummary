{
 "cells": [
  {
   "cell_type": "code",
   "execution_count": 2,
   "metadata": {},
   "outputs": [],
   "source": [
    "import json"
   ]
  },
  {
   "cell_type": "code",
   "execution_count": 3,
   "metadata": {},
   "outputs": [],
   "source": [
    "data = {\n",
    "    \"content\": [\n",
    "        {\n",
    "            \"name\": \"The Hindu Business Line\",\n",
    "            \"url\": \"https://www.thehindubusinessline.com/news/national/feeder/default.rss\"\n",
    "        },\n",
    "        {\n",
    "            \"name\": \"Financial Express\",\n",
    "            \"url\": \"https://www.financialexpress.com/feed/\"\n",
    "        }\n",
    "    ]\n",
    "}"
   ]
  },
  {
   "cell_type": "code",
   "execution_count": 4,
   "metadata": {},
   "outputs": [],
   "source": [
    "with open(\"test2.json\", \"w\") as write_file:\n",
    "    json.dump(data, write_file)"
   ]
  },
  {
   "cell_type": "code",
   "execution_count": 5,
   "metadata": {},
   "outputs": [],
   "source": [
    "with open(\"test2.json\", \"r\") as read_file:\n",
    "    temp = json.load(read_file)"
   ]
  },
  {
   "cell_type": "code",
   "execution_count": 6,
   "metadata": {},
   "outputs": [
    {
     "name": "stdout",
     "output_type": "stream",
     "text": [
      "{'content': [{'name': 'The Hindu Business Line', 'url': 'https://www.thehindubusinessline.com/news/national/feeder/default.rss'}, {'name': 'Financial Express', 'url': 'https://www.financialexpress.com/feed/'}]}\n"
     ]
    }
   ],
   "source": [
    "print(temp)"
   ]
  },
  {
   "cell_type": "code",
   "execution_count": 7,
   "metadata": {},
   "outputs": [],
   "source": [
    "from pprint import pprint"
   ]
  },
  {
   "cell_type": "code",
   "execution_count": 8,
   "metadata": {},
   "outputs": [],
   "source": [
    "with open(\"test2.json\", \"r\") as read_file:\n",
    "    temp = json.load(read_file)"
   ]
  },
  {
   "cell_type": "code",
   "execution_count": 9,
   "metadata": {},
   "outputs": [
    {
     "name": "stdout",
     "output_type": "stream",
     "text": [
      "{'content': [{'name': 'The Hindu Business Line',\n",
      "              'url': 'https://www.thehindubusinessline.com/news/national/feeder/default.rss'},\n",
      "             {'name': 'Financial Express',\n",
      "              'url': 'https://www.financialexpress.com/feed/'}]}\n"
     ]
    }
   ],
   "source": [
    "pprint(temp)"
   ]
  },
  {
   "cell_type": "code",
   "execution_count": 10,
   "metadata": {},
   "outputs": [
    {
     "data": {
      "text/plain": [
       "2"
      ]
     },
     "execution_count": 10,
     "metadata": {},
     "output_type": "execute_result"
    }
   ],
   "source": [
    "len(temp['content'])"
   ]
  },
  {
   "cell_type": "code",
   "execution_count": 11,
   "metadata": {},
   "outputs": [
    {
     "name": "stdout",
     "output_type": "stream",
     "text": [
      "https://www.thehindubusinessline.com/news/national/feeder/default.rss\n",
      "https://www.financialexpress.com/feed/\n"
     ]
    }
   ],
   "source": [
    "counter = 0\n",
    "while counter < len(temp['content']):\n",
    "    print(temp['content'][counter]['url'])\n",
    "    counter+=1"
   ]
  },
  {
   "cell_type": "code",
   "execution_count": null,
   "metadata": {},
   "outputs": [],
   "source": []
  }
 ],
 "metadata": {
  "kernelspec": {
   "display_name": "Python 3",
   "language": "python",
   "name": "python3"
  },
  "language_info": {
   "codemirror_mode": {
    "name": "ipython",
    "version": 3
   },
   "file_extension": ".py",
   "mimetype": "text/x-python",
   "name": "python",
   "nbconvert_exporter": "python",
   "pygments_lexer": "ipython3",
   "version": "3.6.7"
  }
 },
 "nbformat": 4,
 "nbformat_minor": 2
}
