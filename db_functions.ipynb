{
 "cells": [
  {
   "cell_type": "code",
   "execution_count": 10,
   "metadata": {},
   "outputs": [],
   "source": [
    "from sqlalchemy import *\n",
    "import warnings\n",
    "warnings.filterwarnings('ignore')\n",
    "def db_fun():\n",
    "    db = create_engine('sqlite:///DBTest4.sqlite', echo=True)\n",
    "\n",
    "    metadata = MetaData(db)\n",
    "\n",
    "    news = Table('news', metadata,\n",
    "                 Column('id', Integer, primary_key=True),\n",
    "                 Column('paperName', String(100)),\n",
    "                 Column('title', String(250)),\n",
    "                 Column('summary', String(10000000)),\n",
    "                 autoload=True\n",
    "                )\n",
    "    news.create()"
   ]
  },
  {
   "cell_type": "code",
   "execution_count": null,
   "metadata": {},
   "outputs": [],
   "source": []
  }
 ],
 "metadata": {
  "kernelspec": {
   "display_name": "Python 3",
   "language": "python",
   "name": "python3"
  },
  "language_info": {
   "codemirror_mode": {
    "name": "ipython",
    "version": 3
   },
   "file_extension": ".py",
   "mimetype": "text/x-python",
   "name": "python",
   "nbconvert_exporter": "python",
   "pygments_lexer": "ipython3",
   "version": "3.6.7"
  }
 },
 "nbformat": 4,
 "nbformat_minor": 2
}
